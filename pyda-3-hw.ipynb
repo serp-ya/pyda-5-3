{
 "cells": [
  {
   "cell_type": "markdown",
   "metadata": {},
   "source": [
    "## Задание 1"
   ]
  },
  {
   "cell_type": "markdown",
   "metadata": {},
   "source": [
    "Дан список вида:"
   ]
  },
  {
   "cell_type": "code",
   "execution_count": 4,
   "metadata": {},
   "outputs": [],
   "source": [
    "data = [\n",
    "    [13, 25, 23, 34],\n",
    "    [45, 32, 44, 47],\n",
    "    [12, 33, 23, 95],\n",
    "    [13, 53, 34, 35]\n",
    "]"
   ]
  },
  {
   "cell_type": "markdown",
   "metadata": {},
   "source": [
    "Напишите функцию, которая возвращает сумму элементов на диагонали. Т. е. 13+32+23+35."
   ]
  },
  {
   "cell_type": "code",
   "execution_count": 5,
   "metadata": {},
   "outputs": [
    {
     "data": {
      "text/plain": [
       "103"
      ]
     },
     "execution_count": 5,
     "metadata": {},
     "output_type": "execute_result"
    }
   ],
   "source": [
    "def diag_sum(matrix2d):\n",
    "    diag_slice = list(map(lambda row: row[1][row[0]], enumerate(data)))\n",
    "    return sum(diag_slice)\n",
    "\n",
    "diag_sum(data)"
   ]
  },
  {
   "cell_type": "markdown",
   "metadata": {},
   "source": [
    "## Задание 2"
   ]
  },
  {
   "cell_type": "markdown",
   "metadata": {},
   "source": [
    "Дан список чисел, часть из которых имеют строковый тип или содержат буквы. Напишите функцию, которая возвращает сумму квадратов элементов, которые могут быть числами."
   ]
  },
  {
   "cell_type": "code",
   "execution_count": 6,
   "metadata": {},
   "outputs": [],
   "source": [
    "data = [1, '5', 'abc', 20, '2']"
   ]
  },
  {
   "cell_type": "code",
   "execution_count": 7,
   "metadata": {},
   "outputs": [
    {
     "data": {
      "text/plain": [
       "430"
      ]
     },
     "execution_count": 7,
     "metadata": {},
     "output_type": "execute_result"
    }
   ],
   "source": [
    "from functools import reduce\n",
    "\n",
    "def sum_of_squares(list_of_data):\n",
    "    return reduce(\n",
    "        lambda res, el: res + int(el) ** 2 if str.isdigit(str(el)) else res,\n",
    "        list_of_data\n",
    "    )\n",
    "\n",
    "sum_of_squares(data)"
   ]
  },
  {
   "cell_type": "markdown",
   "metadata": {},
   "source": [
    "## Задание 3"
   ]
  },
  {
   "cell_type": "markdown",
   "metadata": {},
   "source": [
    "Напишите функцию, возвращающую сумму первых n чисел Фибоначчи."
   ]
  },
  {
   "cell_type": "code",
   "execution_count": 8,
   "metadata": {},
   "outputs": [
    {
     "name": "stdout",
     "output_type": "stream",
     "text": [
      "positive >>> [0, 1, 1, 2, 3, 5, 8, 13, 21, 34]\n",
      "negative >>> [89, -55, 34, -21, 13, -8, 5, -3, 2, -1, 1, 0]\n",
      "fibonacci_sum(15) >>> 986\n",
      "fibonacci_sum(-12) >>> 56\n"
     ]
    }
   ],
   "source": [
    "def fibonacci(range_size: int, iteration: int = 0, result_list = None):\n",
    "    \"\"\"\n",
    "    function return list of the fibonnacci numbers\n",
    "    function can calc positive and negative range\n",
    "\n",
    "    usage: fibonacci(10) => [0, 1, 1, 2, 3, 5, 8, 13, 21, 34]\n",
    "    usage: fibonacci(-12) => [89, -55, 34, -21, 13, -8, 5, -3, 2, -1, 1, 0]\n",
    "    \"\"\"\n",
    "    result_list = result_list if result_list else []\n",
    "    \n",
    "    if range_size > 0 and iteration == range_size:\n",
    "        return result_list\n",
    "    \n",
    "    elif range_size < 0 and (-iteration) == range_size:\n",
    "        result_list.reverse()\n",
    "        return list(map(\n",
    "            lambda row: row[1] * (-1) ** row[0],\n",
    "            enumerate(result_list)\n",
    "        ))\n",
    "    \n",
    "    if iteration == 0:\n",
    "        result_list.append(0)\n",
    "        \n",
    "    elif iteration == 1:\n",
    "        result_list.append(1)\n",
    "        \n",
    "    elif iteration > 1:\n",
    "        result_list.append(sum(result_list[-2:]))\n",
    "    \n",
    "    return fibonacci(range_size, iteration + 1, result_list)\n",
    "\n",
    "print('positive >>>', fibonacci(10))\n",
    "print('negative >>>', fibonacci(-12))\n",
    "\n",
    "def fibonacci_sum(range_size: int):\n",
    "    return sum(fibonacci(range_size))\n",
    "\n",
    "print('fibonacci_sum(15) >>>', fibonacci_sum(15))\n",
    "print('fibonacci_sum(-12) >>>', fibonacci_sum(-12))"
   ]
  },
  {
   "cell_type": "markdown",
   "metadata": {},
   "source": [
    "## Задание 4"
   ]
  },
  {
   "cell_type": "markdown",
   "metadata": {},
   "source": [
    "Дан набор данных об обучении студентов на курсе программирования, который содержит: \n",
    "1) имя\n",
    "2) фамилию \n",
    "3) пол \n",
    "4) наличие у студента опыта в программировании \n",
    "5) набор оценок за домашние работы \n",
    "6) оценку за итоговую работу.\n",
    "\n",
    "Напишите программу, которая будет принимать команду от пользователя и возвращать соотвествующий результат.\n",
    "Список команд: \n",
    "1 - вывести на экран среднюю оценку за все ДЗ по группе и вывести на экран среднюю оценку за экзамен по группе;\n",
    "2 - вывести среднюю оценку за ДЗ и за экзамен по группе в разрезе пола студентов\n",
    "3 - вывести среднюю оценку за ДЗ и за экзамен в разрезе наличия опыта в программировании у студентов.\n",
    "\n",
    "Прогрмма должна быть полностью декомпозирована на функции (кроме объявления функций и вызова итоговой функции в реализации ничего быть не должно)."
   ]
  },
  {
   "cell_type": "code",
   "execution_count": 9,
   "metadata": {},
   "outputs": [],
   "source": [
    "students_list = [\n",
    "    {'name': 'Василий', 'surname': 'Теркин', 'sex': 'м', 'program_exp': True, 'grade': [8, 8, 9, 10, 9], 'exam': 9},\n",
    "    {'name': 'Мария', 'surname': 'Павлова', 'sex': 'ж', 'program_exp': True, 'grade': [7, 8, 9, 7, 9], 'exam': 8},\n",
    "    {'name': 'Ирина', 'surname': 'Андреева', 'sex': 'ж', 'program_exp': True, 'grade': [10, 9, 8, 10, 10], 'exam': 10},\n",
    "    {'name': 'Татьяна', 'surname': 'Сидорова', 'sex': 'ж', 'program_exp': True, 'grade': [7, 8, 8, 9, 8], 'exam': 8},\n",
    "    {'name': 'Иван', 'surname': 'Васильев', 'sex': 'ж', 'program_exp': True, 'grade': [9, 8, 9, 6, 9], 'exam': 10},\n",
    "    {'name': 'Роман', 'surname': 'Золотарев', 'sex': 'ж', 'program_exp': False, 'grade': [8, 9, 9, 6, 9], 'exam': 10}\n",
    "]"
   ]
  },
  {
   "cell_type": "code",
   "execution_count": 12,
   "metadata": {},
   "outputs": [
    {
     "name": "stdout",
     "output_type": "stream",
     "text": [
      "Введите команду:\n",
      "1 - вывести на экран среднюю оценку за все ДЗ по группе и вывести на экран среднюю оценку за экзамен по группе\n",
      "2 - вывести среднюю оценку за ДЗ и за экзамен по группе в разрезе пола студентов\n",
      "3 - вывести среднюю оценку за ДЗ и за экзамен в разрезе наличия опыта в программировании у студентов\n",
      "0 - выйти из программы\n",
      "\n",
      "Введите команду: 1\n",
      "\n",
      "Средняя оценка - 8.433333333333334\n",
      "Средняя оценка за экзамен - 9.166666666666666\n",
      "\n",
      "Введите команду:\n",
      "1 - вывести на экран среднюю оценку за все ДЗ по группе и вывести на экран среднюю оценку за экзамен по группе\n",
      "2 - вывести среднюю оценку за ДЗ и за экзамен по группе в разрезе пола студентов\n",
      "3 - вывести среднюю оценку за ДЗ и за экзамен в разрезе наличия опыта в программировании у студентов\n",
      "0 - выйти из программы\n",
      "\n",
      "Введите команду: 2\n",
      "\n",
      "Средняя оценка:\n",
      "Мужчины - 8.8\n",
      "Женщины - 8.36\n",
      "\n",
      "Средняя оценка за экзамен:\n",
      "Мужчины - 9.0\n",
      "Женщины - 9.2\n",
      "\n",
      "Введите команду:\n",
      "1 - вывести на экран среднюю оценку за все ДЗ по группе и вывести на экран среднюю оценку за экзамен по группе\n",
      "2 - вывести среднюю оценку за ДЗ и за экзамен по группе в разрезе пола студентов\n",
      "3 - вывести среднюю оценку за ДЗ и за экзамен в разрезе наличия опыта в программировании у студентов\n",
      "0 - выйти из программы\n",
      "\n",
      "Введите команду: 3\n",
      "\n",
      "Средняя оценка:\n",
      "С опытом программирования - 8.48\n",
      "Без опыта программирования - 8.2\n",
      "\n",
      "Средняя оценка за экзамен:\n",
      "С опытом программирования - 9.0\n",
      "Без опыта программирования - 10.0\n",
      "\n",
      "Введите команду:\n",
      "1 - вывести на экран среднюю оценку за все ДЗ по группе и вывести на экран среднюю оценку за экзамен по группе\n",
      "2 - вывести среднюю оценку за ДЗ и за экзамен по группе в разрезе пола студентов\n",
      "3 - вывести среднюю оценку за ДЗ и за экзамен в разрезе наличия опыта в программировании у студентов\n",
      "0 - выйти из программы\n",
      "\n",
      "Введите команду: 4\n",
      "\n",
      "Нераспознанная команда, попробуйте ещё раз\n",
      "Введите команду:\n",
      "1 - вывести на экран среднюю оценку за все ДЗ по группе и вывести на экран среднюю оценку за экзамен по группе\n",
      "2 - вывести среднюю оценку за ДЗ и за экзамен по группе в разрезе пола студентов\n",
      "3 - вывести среднюю оценку за ДЗ и за экзамен в разрезе наличия опыта в программировании у студентов\n",
      "0 - выйти из программы\n",
      "\n",
      "Введите команду: 0\n",
      "\n"
     ]
    },
    {
     "ename": "SystemExit",
     "evalue": "Завершение работы программы",
     "output_type": "error",
     "traceback": [
      "An exception has occurred, use %tb to see the full traceback.\n",
      "\u001b[1;31mSystemExit\u001b[0m\u001b[1;31m:\u001b[0m Завершение работы программы\n"
     ]
    }
   ],
   "source": [
    "import sys\n",
    "from functools import reduce\n",
    "\n",
    "# Student type structure\n",
    "# name: str\n",
    "# surname: str\n",
    "# sex: enum<'m', 'ж'>\n",
    "# program_exp: bool\n",
    "# grade: list<int>\n",
    "# exam: int\n",
    "\n",
    "# AverageDict type  structure\n",
    "# average_grade: float\n",
    "# average_exam: float\n",
    "\n",
    "SEX_FIELD_NAME = 'sex'\n",
    "SEX_ENUM_MALE_FIELD_NAME = 'MALE'\n",
    "SEX_ENUM_FEMALE_FIELD_NAME = 'FEMALE'\n",
    "SEX_ENUM = { SEX_ENUM_MALE_FIELD_NAME: 'м', SEX_ENUM_FEMALE_FIELD_NAME: 'ж'}\n",
    "PROGRAM_EXP_FIELD_NAME = 'program_exp'\n",
    "AVERAGE_GRADE_FIELD_NAME = 'average_grade'\n",
    "AVERAGE_EXAM_FIELD_NAME = 'average_exam'\n",
    "\n",
    "def get_grades_from_list(students_list: list) -> list:\n",
    "    \"\"\"\n",
    "    Возвращает общий список оценок из списка переданных студентов\n",
    "    @param {list<Student>} students_list\n",
    "    @returns {list<int>} list of exam values\n",
    "    \"\"\"\n",
    "    return reduce(\n",
    "        lambda result, student_data: [*result, *student_data['grade']],\n",
    "        students_list,\n",
    "        []\n",
    "    )\n",
    "\n",
    "def get_exams_from_list(students_list: list) -> list:\n",
    "    \"\"\"\n",
    "    Возвращает список общий список оценок за экзамен из списка переданных студентов\n",
    "    @param {list<Student>} students_list\n",
    "    @returns {list<int>} list of exam values\n",
    "    \"\"\"\n",
    "    return reduce(\n",
    "        lambda result, student_data: [*result, student_data['exam']],\n",
    "        students_list,\n",
    "        []\n",
    "    )\n",
    "\n",
    "def calc_average_in_list(nums_list: list) -> float:\n",
    "    \"\"\"\n",
    "    Считает среднее значение в списке переданных чисел\n",
    "    @param {list<int>} nums_list\n",
    "    @returns {float} average sum\n",
    "    \"\"\"\n",
    "    return sum(nums_list) / len(nums_list)\n",
    "\n",
    "def calc_average_group_grade(students_list: list) -> float:\n",
    "    \"\"\"\n",
    "    Считает среднее значение оценок в списке переданных студентов\n",
    "    @param {list<Student>} students_list\n",
    "    @returns {float} average sum of grade\n",
    "    \"\"\"\n",
    "    return calc_average_in_list(\n",
    "        get_grades_from_list(students_list)\n",
    "    )\n",
    "\n",
    "def calc_average_group_exam(students_list: list) -> float:\n",
    "    \"\"\"\n",
    "    Считает среднее значение экзамена в списке переданных студентов\n",
    "    @param {list<Student>} students_list\n",
    "    @returns {float} average sum of exam\n",
    "    \"\"\"\n",
    "    return calc_average_in_list(\n",
    "        get_exams_from_list(students_list)\n",
    "    )\n",
    "\n",
    "def get_average_by_group(students_list: list) -> dict:\n",
    "    \"\"\"\n",
    "    Считает среднюю оценку и экзамен по группе\n",
    "    @param {list<Student>} students_list\n",
    "    @returns {AverageDict} average grade and exam dict\n",
    "    \"\"\"\n",
    "    average_grade = calc_average_group_grade(students_list)\n",
    "    average_exam = calc_average_group_exam(students_list)\n",
    "    \n",
    "    return {\n",
    "        AVERAGE_GRADE_FIELD_NAME: average_grade,\n",
    "        AVERAGE_EXAM_FIELD_NAME: average_exam,        \n",
    "    }\n",
    "\n",
    "def get_slice_by_field(list_of_items: list, field_name: str) -> dict:\n",
    "    \"\"\"\n",
    "    Возвращает словарь срезов по заданному field_name\n",
    "    @param {list<dict<str, any>>} list_of_items \n",
    "    @param {str} field_name\n",
    "    @returns {dict<str, any>} splited by field_name dict\n",
    "    \"\"\"\n",
    "    result_slice = {};\n",
    "    \n",
    "    for list_item in list_of_items:\n",
    "        key = list_item[field_name]\n",
    "        if not key in result_slice:\n",
    "            result_slice[key] = []\n",
    "            \n",
    "        result_slice[key].append(list_item)\n",
    "\n",
    "    return result_slice\n",
    "\n",
    "def get_average_slice_by_field_name(students_list: list, field_name: str) -> dict:\n",
    "    \"\"\"\n",
    "    Возвращает словарь средних значений по заданному срезу\n",
    "    @param {list<Student>} students_list\n",
    "    @param {str} field_name\n",
    "    @returns {dict<any, AverageDict>}\n",
    "    \"\"\"\n",
    "    slice_by_field_name = get_slice_by_field(students_list, field_name)\n",
    "    slice_result = {}\n",
    "    \n",
    "    for slise_key, slice_items in slice_by_field_name.items():\n",
    "        slice_result[slise_key] = get_average_by_group(slice_items)\n",
    "        \n",
    "    return slice_result\n",
    "\n",
    "def get_average_slice_by_sex(students_list: list) -> dict:\n",
    "    \"\"\"\n",
    "    Возвращает словарь средних значений по срезу \"пол\"\n",
    "    @param {list<Student>} students_list\n",
    "    @returns {dict<any, AverageDict>}\n",
    "    \"\"\"\n",
    "    return get_average_slice_by_field_name(students_list, SEX_FIELD_NAME)\n",
    "\n",
    "def get_average_slice_by_exp(students_list: list) -> dict:\n",
    "    \"\"\"\n",
    "    Возвращает словарь средних значений по срезу 'наличие опыта в программировании'\n",
    "    @param {list<Student>} students_list\n",
    "    @returns {dict<any, AverageDict>}\n",
    "    \"\"\"\n",
    "    return get_average_slice_by_field_name(students_list, PROGRAM_EXP_FIELD_NAME)\n",
    "\n",
    "def print_average_common(students_list: list) -> None:\n",
    "    average_by_group = get_average_by_group(students_list)\n",
    "    \n",
    "    print(f'Средняя оценка - {average_by_group.get(AVERAGE_GRADE_FIELD_NAME)}')\n",
    "    print(f'Средняя оценка за экзамен - {average_by_group.get(AVERAGE_EXAM_FIELD_NAME)}')\n",
    "    print()\n",
    "\n",
    "def print_average_by_sex(students_list: list) -> None:\n",
    "    average_slice_by_sex = get_average_slice_by_sex(students_list)\n",
    "    male_average = average_slice_by_sex.get(SEX_ENUM[SEX_ENUM_MALE_FIELD_NAME])\n",
    "    female_average = average_slice_by_sex.get(SEX_ENUM[SEX_ENUM_FEMALE_FIELD_NAME])\n",
    "\n",
    "    print('Средняя оценка:')\n",
    "    print(f'Мужчины - {male_average.get(AVERAGE_GRADE_FIELD_NAME)}')\n",
    "    print(f'Женщины - {female_average.get(AVERAGE_GRADE_FIELD_NAME)}')\n",
    "    print()\n",
    "    print('Средняя оценка за экзамен:')\n",
    "    print(f'Мужчины - {male_average.get(AVERAGE_EXAM_FIELD_NAME)}')\n",
    "    print(f'Женщины - {female_average.get(AVERAGE_EXAM_FIELD_NAME)}')\n",
    "    print()\n",
    "\n",
    "def print_average_by_program_exp(students_list) -> None:\n",
    "    average_slice_by_exp = get_average_slice_by_exp(students_list)\n",
    "    with_exp_average = average_slice_by_exp.get(True)\n",
    "    without_exp_average = average_slice_by_exp.get(False)\n",
    "\n",
    "    print('Средняя оценка:')\n",
    "    print(f'С опытом программирования - {with_exp_average.get(AVERAGE_GRADE_FIELD_NAME)}')\n",
    "    print(f'Без опыта программирования - {without_exp_average.get(AVERAGE_GRADE_FIELD_NAME)}')\n",
    "    print()\n",
    "    print('Средняя оценка за экзамен:')\n",
    "    print(f'С опытом программирования - {with_exp_average.get(AVERAGE_EXAM_FIELD_NAME)}')\n",
    "    print(f'Без опыта программирования - {without_exp_average.get(AVERAGE_EXAM_FIELD_NAME)}')\n",
    "    print()\n",
    "\n",
    "def print_available_commands(comands: dict) -> None:\n",
    "    print('Введите команду:')\n",
    "    for command_allias, command_data in comands.items():\n",
    "        print(f\"{command_allias} - {command_data['desc']}\")\n",
    "    print()\n",
    "              \n",
    "def break_program(*args) -> None:\n",
    "    \"\"\"\n",
    "    Не смог найти наиболее удобного способа завершить выполнение ячейки\n",
    "    Функции quit() или exit() игнорируются\n",
    "    \"\"\"\n",
    "    sys.exit('Завершение работы программы')\n",
    "              \n",
    "comands_list = {\n",
    "    '1': {\n",
    "        'desc': 'вывести на экран среднюю оценку за все ДЗ по группе \\\n",
    "и вывести на экран среднюю оценку за экзамен по группе',\n",
    "        'func': print_average_common,\n",
    "    },\n",
    "    '2': {\n",
    "        'desc': 'вывести среднюю оценку за ДЗ и за экзамен по группе в разрезе пола студентов',\n",
    "        'func': print_average_by_sex,\n",
    "    },\n",
    "    '3': {\n",
    "        'desc': 'вывести среднюю оценку за ДЗ и за экзамен в разрезе наличия \\\n",
    "опыта в программировании у студентов',\n",
    "        'func': print_average_by_program_exp,\n",
    "    },\n",
    "    '0':  {\n",
    "        'desc': 'выйти из программы',\n",
    "        'func': break_program,\n",
    "    },\n",
    "}\n",
    "\n",
    "if __name__ == '__main__':\n",
    "    while(True):\n",
    "        print_available_commands(comands_list)\n",
    "        inputed_command = input('Введите команду: ')\n",
    "        print()\n",
    "\n",
    "        if inputed_command not in comands_list:\n",
    "            print('Нераспознанная команда, попробуйте ещё раз')\n",
    "        else:\n",
    "            comands_list.get(inputed_command).get('func')(students_list)\n"
   ]
  },
  {
   "cell_type": "code",
   "execution_count": null,
   "metadata": {},
   "outputs": [],
   "source": []
  }
 ],
 "metadata": {
  "kernelspec": {
   "display_name": "Python 3",
   "language": "python",
   "name": "python3"
  },
  "language_info": {
   "codemirror_mode": {
    "name": "ipython",
    "version": 3
   },
   "file_extension": ".py",
   "mimetype": "text/x-python",
   "name": "python",
   "nbconvert_exporter": "python",
   "pygments_lexer": "ipython3",
   "version": "3.7.3"
  }
 },
 "nbformat": 4,
 "nbformat_minor": 2
}
